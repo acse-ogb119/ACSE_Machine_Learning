{
 "cells": [
  {
   "cell_type": "markdown",
   "metadata": {},
   "source": [
    "# ACSE-8\n",
    "## Coursework 2 - Training a classifier on CIFAR10"
   ]
  },
  {
   "cell_type": "markdown",
   "metadata": {},
   "source": [
    "You task in this coursework is to implement, train and validate a classifier on the CIFAR10 dataset.  \n",
    "You are free to use the code provided previously in the classroom exercises - but that code will need to be adapted to work on CIFAR10. \n",
    "\n",
    "Complete the following tasks:\n",
    "\n",
    "1. Use ```torchvision.datasets.CIFAR10``` to load the CIFAR10 dataset. (1 point)\n",
    "2. Plot 25 images of the training set together with their corresponding label names. (1 point)\n",
    "3. Create a (90-10) training and validation split using ```sklearn.model_selection.StratifiedShuffleSplit```  (1 point)\n",
    "4. Instantiate Datasets and Dataloader with correctly normalized CIFAR10, training, validation and test data. (1 point)\n",
    "5. Modify LeNet5 from the morning excercise to be able to work with CIFAR10. (3 points)\n",
    "6. Perform a line-search over the L2-Regularization parameter, use the ```weight_decay=value``` keyword argument in the ```torch.optim``` modules (5 points).\n",
    "  - Other Hyperparameters:\n",
    "    - Random Number Seed 42\n",
    "    - Learning Rate = 1e-2\n",
    "    - Momentum = 0.5\n",
    "    - Batch Size = 64\n",
    "    - Test Batch Size = 1000\n",
    "    - Number of Epochs = 30\n",
    "    - Optimizer = SGD\n",
    " - Values of weight_decay to use in line search: ```[0.0, 1e-3, 1e-4, 1e-5]```\n",
    "7. Choose the best weight-decay value given the other hyperparameters and train on the full CIFAR10 training set (2 points).\n",
    "8. Test your final model on the test set and store the model parameters in a ```.pth``` file (2 points).\n",
    "9. Answer the following questions (1 point each):   \n",
    "  **Which of these data-augmentation transforms would be reasonable to apply to CIFAR10 and why?**\n",
    "  - Left-Right Flips\n",
    "  - Random Rotations by up to 10 Degrees\n",
    "  - Up-Down Flips\n",
    "  - Shifting up-down, left-right by 5 pixels\n",
    "  - Contrast Changes\n",
    "  - Adding Gaussian Noise\n",
    "  - Random Rotations by up to 90 Degrees\n",
    "\n",
    "10. Bonus: Once you are certain you have achieved all points in the above excercise!\n",
    "  - Use data-augmentation to train a CIFAR10 classifier using your best value of weight-decay and the other given hyperparameters. (4 points)\n",
    "  - Use a different classifier (not LeNet-5) to beat your best classification accuracy with LeNet. (3 points)\n",
    "  \n",
    " Describe your working as comments in a Jupyter Notebook together with your code implementation and provide the final Jupyter Notebook and your trained model weights in a github repository.\n",
    " \n",
    " Total Points: 23 (+7 Bonus Points)"
   ]
  }
 ],
 "metadata": {
  "kernelspec": {
   "display_name": "Python 3",
   "language": "python",
   "name": "python3"
  },
  "language_info": {
   "codemirror_mode": {
    "name": "ipython",
    "version": 3
   },
   "file_extension": ".py",
   "mimetype": "text/x-python",
   "name": "python",
   "nbconvert_exporter": "python",
   "pygments_lexer": "ipython3",
   "version": "3.7.7"
  }
 },
 "nbformat": 4,
 "nbformat_minor": 4
}
